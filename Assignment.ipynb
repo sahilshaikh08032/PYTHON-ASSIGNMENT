{
 "cells": [
  {
   "cell_type": "code",
   "execution_count": 1,
   "id": "b59df38d",
   "metadata": {},
   "outputs": [],
   "source": [
    "# Question 1 \n",
    "## Write a python program to sum of the first n positive integers."
   ]
  },
  {
   "cell_type": "code",
   "execution_count": 2,
   "id": "86ec79e7",
   "metadata": {},
   "outputs": [],
   "source": [
    "n = (1,2,3,4,5,6,7,8,9,10)\n",
    "s = 0"
   ]
  },
  {
   "cell_type": "code",
   "execution_count": 3,
   "id": "9f301ca3",
   "metadata": {},
   "outputs": [],
   "source": [
    "for i in n:\n",
    "  s+= i"
   ]
  },
  {
   "cell_type": "code",
   "execution_count": 4,
   "id": "04af6df4",
   "metadata": {},
   "outputs": [
    {
     "data": {
      "text/plain": [
       "55"
      ]
     },
     "execution_count": 4,
     "metadata": {},
     "output_type": "execute_result"
    }
   ],
   "source": [
    "s"
   ]
  },
  {
   "cell_type": "code",
   "execution_count": 5,
   "id": "d3478465",
   "metadata": {},
   "outputs": [],
   "source": [
    "# Question 2\n",
    "## Write a Python program to count occurrences of a substring in a string.\n"
   ]
  },
  {
   "cell_type": "code",
   "execution_count": 6,
   "id": "88ec66c4",
   "metadata": {},
   "outputs": [],
   "source": [
    "title = \"hello sahil how are you\""
   ]
  },
  {
   "cell_type": "code",
   "execution_count": 7,
   "id": "61188ff3",
   "metadata": {},
   "outputs": [
    {
     "data": {
      "text/plain": [
       "3"
      ]
     },
     "execution_count": 7,
     "metadata": {},
     "output_type": "execute_result"
    }
   ],
   "source": [
    "title.count('l')"
   ]
  },
  {
   "cell_type": "code",
   "execution_count": 8,
   "id": "5fe1e7c9",
   "metadata": {},
   "outputs": [],
   "source": [
    "# Question 3\n",
    "## Write a Python program to count the occurrences of each word in a given sentence.\n"
   ]
  },
  {
   "cell_type": "code",
   "execution_count": 9,
   "id": "b16abd0b",
   "metadata": {},
   "outputs": [],
   "source": [
    "h = [\"paper\",\"book\",\"phone\",\"radio\",\"pen\",\"ball\",\"bat\",\"phone\",\"book\",\"phone\"]"
   ]
  },
  {
   "cell_type": "code",
   "execution_count": 10,
   "id": "a9d55ddf",
   "metadata": {},
   "outputs": [
    {
     "name": "stdout",
     "output_type": "stream",
     "text": [
      "3\n"
     ]
    }
   ],
   "source": [
    "print(h.count(\"phone\"))"
   ]
  },
  {
   "cell_type": "code",
   "execution_count": 11,
   "id": "ce5611df",
   "metadata": {},
   "outputs": [
    {
     "name": "stdout",
     "output_type": "stream",
     "text": [
      "2\n"
     ]
    }
   ],
   "source": [
    "print(h.count(\"book\"))"
   ]
  },
  {
   "cell_type": "code",
   "execution_count": 12,
   "id": "a6ba522d",
   "metadata": {},
   "outputs": [
    {
     "name": "stdout",
     "output_type": "stream",
     "text": [
      "1\n"
     ]
    }
   ],
   "source": [
    "print(h.count(\"pen\"))"
   ]
  },
  {
   "cell_type": "code",
   "execution_count": 13,
   "id": "2c22c561",
   "metadata": {},
   "outputs": [
    {
     "name": "stdout",
     "output_type": "stream",
     "text": [
      "1\n"
     ]
    }
   ],
   "source": [
    "print(h.count(\"ball\"))"
   ]
  },
  {
   "cell_type": "code",
   "execution_count": 14,
   "id": "96c8ea28",
   "metadata": {},
   "outputs": [],
   "source": [
    "# Question 4\n",
    "## Write a Python program to get a single string from two given strings, separated by a space and swap the first two characters of each string.\n"
   ]
  },
  {
   "cell_type": "code",
   "execution_count": 15,
   "id": "f618396b",
   "metadata": {},
   "outputs": [],
   "source": [
    "a ='sahil'"
   ]
  },
  {
   "cell_type": "code",
   "execution_count": 16,
   "id": "258cf7d7",
   "metadata": {},
   "outputs": [],
   "source": [
    "b = 'shaikh'"
   ]
  },
  {
   "cell_type": "code",
   "execution_count": 17,
   "id": "c77c486b",
   "metadata": {},
   "outputs": [
    {
     "name": "stdout",
     "output_type": "stream",
     "text": [
      "before swap: sahil   shaikh\n"
     ]
    }
   ],
   "source": [
    "print(\"before swap:\",a,\" \",b)"
   ]
  },
  {
   "cell_type": "code",
   "execution_count": 18,
   "id": "f8b73724",
   "metadata": {},
   "outputs": [],
   "source": [
    "a1 = b[:2] + a[2:]"
   ]
  },
  {
   "cell_type": "code",
   "execution_count": 19,
   "id": "6668692f",
   "metadata": {},
   "outputs": [],
   "source": [
    "b1 = a[:2]  + b[2:]"
   ]
  },
  {
   "cell_type": "code",
   "execution_count": 20,
   "id": "a9229c2b",
   "metadata": {},
   "outputs": [
    {
     "name": "stdout",
     "output_type": "stream",
     "text": [
      "after swap : shhil   saaikh\n"
     ]
    }
   ],
   "source": [
    "print(\"after swap :\",a1,\" \",b1) "
   ]
  },
  {
   "cell_type": "code",
   "execution_count": 21,
   "id": "80e856c9",
   "metadata": {},
   "outputs": [],
   "source": [
    "# Question 5\n",
    "## Write a Python program to add 'ing' at the end of a given string (length should be at least 3).if the given string already ends with 'ing' then add 'ly'\n"
   ]
  },
  {
   "cell_type": "code",
   "execution_count": 22,
   "id": "a9744520",
   "metadata": {},
   "outputs": [
    {
     "name": "stdout",
     "output_type": "stream",
     "text": [
      "ab\n",
      "abcing\n",
      "stringly\n"
     ]
    }
   ],
   "source": [
    "def add_string(str1):  \n",
    "  length = len(str1)  \n",
    "  \n",
    "  if length > 2:  \n",
    "    if str1[-3:] == 'ing':  \n",
    "      str1 += 'ly'  \n",
    "    else:  \n",
    "      str1 += 'ing'  \n",
    "  \n",
    "  return str1  \n",
    "print(add_string('ab'))  \n",
    "print(add_string('abc'))  \n",
    "print(add_string('string'))  \n"
   ]
  },
  {
   "cell_type": "code",
   "execution_count": 23,
   "id": "d3810f7e",
   "metadata": {},
   "outputs": [],
   "source": [
    "# Question 6\n",
    "##  Write a Python program to find the first appearance of the substring 'not' and 'poor' from a given string, if 'not' follows the 'poor', replace the whole 'not'...'poor' substring with 'good'. Return the resulting string\n"
   ]
  },
  {
   "cell_type": "code",
   "execution_count": 24,
   "id": "c1513abd",
   "metadata": {},
   "outputs": [
    {
     "name": "stdout",
     "output_type": "stream",
     "text": [
      "The lyrics is good!\n"
     ]
    }
   ],
   "source": [
    "def not_poor(str1):  \n",
    "  snot = str1.find('not')  \n",
    "  sbad = str1.find('poor')  \n",
    "  \n",
    "  if sbad > snot:  \n",
    "    str1 = str1.replace(str1[snot:(sbad+4)], 'good')  \n",
    "  \n",
    "  return str1  \n",
    "print(not_poor('The lyrics is not that poor!'))  \n"
   ]
  },
  {
   "cell_type": "code",
   "execution_count": 25,
   "id": "eae93ca5",
   "metadata": {},
   "outputs": [],
   "source": [
    "# Question 7\n",
    "## Program to find Greatest Common Divisor of two numbers.For example, the GCD of 20 and 28 is 4 and GCD of 98 and 56 is 14.\n",
    "\n"
   ]
  },
  {
   "cell_type": "code",
   "execution_count": 26,
   "id": "b7fe99d1",
   "metadata": {},
   "outputs": [
    {
     "name": "stdout",
     "output_type": "stream",
     "text": [
      "4\n"
     ]
    }
   ],
   "source": [
    "a = 20\n",
    "b = 28 \n",
    "\n",
    "def gcd(a,b):\n",
    "  if b == 0:\n",
    "    return a \n",
    "  else:\n",
    "    return gcd(b,a % b)\n",
    "print(gcd(a,b))"
   ]
  },
  {
   "cell_type": "code",
   "execution_count": 27,
   "id": "f959830f",
   "metadata": {},
   "outputs": [
    {
     "name": "stdout",
     "output_type": "stream",
     "text": [
      "14\n"
     ]
    }
   ],
   "source": [
    "a = 98\n",
    "b = 56 \n",
    "\n",
    "def gcd(a,b):\n",
    "  if b == 0:\n",
    "    return a \n",
    "  else:\n",
    "    return gcd(b,a % b)\n",
    "print(gcd(a,b))\n"
   ]
  },
  {
   "cell_type": "code",
   "execution_count": 28,
   "id": "9aa4d71f",
   "metadata": {},
   "outputs": [],
   "source": [
    "# Question 8\n",
    "## Write a Python program to find the second smallest number in a list.\n"
   ]
  },
  {
   "cell_type": "code",
   "execution_count": 29,
   "id": "21ec82c9",
   "metadata": {},
   "outputs": [],
   "source": [
    "l = [3,45,65,4,33,15,56]"
   ]
  },
  {
   "cell_type": "code",
   "execution_count": 30,
   "id": "39f0c12f",
   "metadata": {},
   "outputs": [
    {
     "data": {
      "text/plain": [
       "[3, 45, 65, 4, 33, 15, 56]"
      ]
     },
     "execution_count": 30,
     "metadata": {},
     "output_type": "execute_result"
    }
   ],
   "source": [
    "l"
   ]
  },
  {
   "cell_type": "code",
   "execution_count": 31,
   "id": "f6b90a87",
   "metadata": {},
   "outputs": [],
   "source": [
    "l.sort()"
   ]
  },
  {
   "cell_type": "code",
   "execution_count": 32,
   "id": "144bb2ce",
   "metadata": {},
   "outputs": [
    {
     "data": {
      "text/plain": [
       "[3, 4, 15, 33, 45, 56, 65]"
      ]
     },
     "execution_count": 32,
     "metadata": {},
     "output_type": "execute_result"
    }
   ],
   "source": [
    "l"
   ]
  },
  {
   "cell_type": "code",
   "execution_count": 33,
   "id": "bcbfb25f",
   "metadata": {},
   "outputs": [
    {
     "name": "stdout",
     "output_type": "stream",
     "text": [
      "second smallest number is :  4\n"
     ]
    }
   ],
   "source": [
    "number = l[1]\n",
    "\n",
    "print(\"second smallest number is : \",number)\n",
    "\n"
   ]
  },
  {
   "cell_type": "code",
   "execution_count": 34,
   "id": "f11d8b9b",
   "metadata": {},
   "outputs": [],
   "source": [
    "# Question 10 \n",
    "## Write a Python program to get unique values from a list.\n"
   ]
  },
  {
   "cell_type": "code",
   "execution_count": 35,
   "id": "64bdc31e",
   "metadata": {
    "scrolled": true
   },
   "outputs": [
    {
     "name": "stdout",
     "output_type": "stream",
     "text": [
      "Unique list():\n",
      "\n",
      "10\n",
      "15\n",
      "20\n",
      "25\n",
      "30\n",
      "45\n",
      "60\n"
     ]
    }
   ],
   "source": [
    "list1 = [10, 15, 10, 20, 15, 25, 30, 45, 60] \n",
    "list2 = []\n",
    "\n",
    "for item in list1: \n",
    "    if item not in list2: \n",
    "        list2.append(item) \n",
    "\n",
    "print(\"Unique list():\\n\")    \n",
    "for item in list2: \n",
    "    print(item)"
   ]
  },
  {
   "cell_type": "code",
   "execution_count": 36,
   "id": "0cb05878",
   "metadata": {},
   "outputs": [],
   "source": [
    "# Question 11\n",
    "## Write a Python program to unzip a list of tuples into individual lists.\n"
   ]
  },
  {
   "cell_type": "code",
   "execution_count": 37,
   "id": "42da4c6b",
   "metadata": {},
   "outputs": [
    {
     "name": "stdout",
     "output_type": "stream",
     "text": [
      "Original list is : [('Sahil', 1), ('Bro', 2), ('is', 3), ('Placed', 4)]\n",
      "Modified list is : [('Sahil', 'Bro', 'is', 'Placed'), (1, 2, 3, 4)]\n"
     ]
    }
   ],
   "source": [
    "test_list = [('Sahil', 1), ('Bro', 2), ('is', 3), ('Placed', 4)]\n",
    " \n",
    "\n",
    "print (\"Original list is : \" + str(test_list))\n",
    "res=[]\n",
    "a=[]\n",
    "b=[]\n",
    "for i in test_list:\n",
    "    a.append(i[0])\n",
    "    b.append(i[1])\n",
    "res.append(tuple(a))\n",
    "res.append(tuple(b))\n",
    "print (\"Modified list is : \" + str(res))"
   ]
  },
  {
   "cell_type": "code",
   "execution_count": 38,
   "id": "1936d1a4",
   "metadata": {},
   "outputs": [],
   "source": [
    "# Question 12\n",
    "## Write a Python program to convert a list of tuples into a dictionary\n"
   ]
  },
  {
   "cell_type": "code",
   "execution_count": 39,
   "id": "c51ee6ea",
   "metadata": {},
   "outputs": [
    {
     "name": "stdout",
     "output_type": "stream",
     "text": [
      "{'Sahil': [45], 'Harsh': [45], 'Faisal': [75], 'Yash': [85], 'Rahul': [10], 'Parth': [52]}\n"
     ]
    }
   ],
   "source": [
    "list_1=[(\"Sahil\",45), (\"Harsh\",45), (\"Faisal\",75),\n",
    "           (\"Yash\",85), (\"Rahul\",10), (\"Parth\",52)]\n",
    "dict_1=dict()\n",
    " \n",
    "for student,score in list_1:\n",
    "    dict_1.setdefault(student, []).append(score)\n",
    "print(dict_1)"
   ]
  },
  {
   "cell_type": "code",
   "execution_count": 42,
   "id": "ef869c53",
   "metadata": {},
   "outputs": [],
   "source": [
    "# Question 13\n",
    "## Write a Python program to sort a dictionary (ascending /descending) by value.\n"
   ]
  },
  {
   "cell_type": "code",
   "execution_count": 43,
   "id": "311b1437",
   "metadata": {},
   "outputs": [
    {
     "name": "stdout",
     "output_type": "stream",
     "text": [
      "Sorted dictionary is :\n",
      "[(1, 'a'), (2, 'b'), (3, 'c'), (4, 'd')]\n"
     ]
    }
   ],
   "source": [
    "my_dict = {'c': 3,\n",
    "           'a': 1,\n",
    "           'd': 4,\n",
    "           'b': 2}\n",
    " \n",
    "\n",
    "sorted_dict = sorted([(value, key)\n",
    " for (key, value) in my_dict.items()])\n",
    " \n",
    "\n",
    "print(\"Sorted dictionary is :\")\n",
    "print(sorted_dict)\n"
   ]
  },
  {
   "cell_type": "code",
   "execution_count": 46,
   "id": "913b903e",
   "metadata": {},
   "outputs": [],
   "source": [
    "# Question 14\n",
    "## Write a Python program to find the highest 3 values in a dictionary.\n"
   ]
  },
  {
   "cell_type": "code",
   "execution_count": 47,
   "id": "27e16eee",
   "metadata": {},
   "outputs": [
    {
     "name": "stdout",
     "output_type": "stream",
     "text": [
      "{'A': 67, 'B': 23, 'C': 45, 'D': 56, 'E': 12, 'F': 69} \n",
      "\n",
      "Dictionary with 3 highest values:\n",
      "Keys: Values\n",
      "F  : 69  \n",
      "A  : 67  \n",
      "D  : 56  \n"
     ]
    }
   ],
   "source": [
    "from collections import Counter\n",
    " \n",
    "\n",
    "my_dict = {'A': 67, 'B': 23, 'C': 45,\n",
    "           'D': 56, 'E': 12, 'F': 69}\n",
    " \n",
    "k = Counter(my_dict)\n",
    " \n",
    "\n",
    "high = k.most_common(3)\n",
    " \n",
    "\n",
    "print(my_dict, \"\\n\")\n",
    " \n",
    " \n",
    "print(\"Dictionary with 3 highest values:\")\n",
    "print(\"Keys: Values\")\n",
    " \n",
    "for i in high:\n",
    "    print(i[0],\" :\",i[1],\" \")"
   ]
  },
  {
   "cell_type": "code",
   "execution_count": 52,
   "id": "2f871b01",
   "metadata": {},
   "outputs": [],
   "source": [
    "# Question 15\n",
    "### Given a number n, write a python program to make and print the list of Fibonacci series up to n.Input : n=7\n"
   ]
  },
  {
   "cell_type": "code",
   "execution_count": 54,
   "id": "8bbbf1b7",
   "metadata": {},
   "outputs": [
    {
     "name": "stdout",
     "output_type": "stream",
     "text": [
      "34\n"
     ]
    }
   ],
   "source": [
    "def Fibonacci(n):\n",
    "   \n",
    "   \n",
    "    if n < 0:\n",
    "        print(\"Incorrect input\")\n",
    " \n",
    "    \n",
    "    elif n == 0:\n",
    "        return 0\n",
    " \n",
    "  \n",
    "    elif n == 1 or n == 2:\n",
    "        return 1\n",
    " \n",
    "    else:\n",
    "        return Fibonacci(n-1) + Fibonacci(n-2)\n",
    " \n",
    "\n",
    "print(Fibonacci(9))\n",
    "\n",
    "\n"
   ]
  },
  {
   "cell_type": "code",
   "execution_count": 1,
   "id": "a2e65eb8",
   "metadata": {},
   "outputs": [],
   "source": [
    "# Question 16\n",
    "## Counting the frequencies in a list using a dictionary in Python.\n",
    "### Input : [1, 1, 1, 5, 5, 3, 1, 3, 3, 1,4, 4, 4, 2, 2, 2, 2]\n",
    "###Expected output : [1 : 5 , 2 : 4 , 3 : 3 , 4 : 3 , 5 : 2]\n",
    "\n"
   ]
  },
  {
   "cell_type": "code",
   "execution_count": 1,
   "id": "9ca53495",
   "metadata": {},
   "outputs": [
    {
     "name": "stdout",
     "output_type": "stream",
     "text": [
      "{1: 5, 5: 2, 3: 3, 4: 3, 2: 4}\n"
     ]
    }
   ],
   "source": [
    "h = [1, 1, 1, 5, 5, 3, 1, 3, 3, 1,4, 4, 4, 2, 2, 2, 2]\n",
    "\n",
    "def CountFreq(h):\n",
    "  freq = {}\n",
    "  for items in h:\n",
    "    freq[items] = h.count(items)\n",
    "  print(freq)\n",
    "  \n",
    "CountFreq(h)"
   ]
  },
  {
   "cell_type": "code",
   "execution_count": 2,
   "id": "737b290c",
   "metadata": {},
   "outputs": [],
   "source": [
    "# Question 17\n",
    "## Write a python program using function to find the sum of odd series and even series\n",
    "# Odd series: 12/ 1! + 32/ 3! + 52/ 5!+……n\n",
    "# Even series: 22/ 2! + 42/ 4! + 62/ 6!+……n"
   ]
  },
  {
   "cell_type": "code",
   "execution_count": 4,
   "id": "b11a96eb",
   "metadata": {},
   "outputs": [
    {
     "name": "stdout",
     "output_type": "stream",
     "text": [
      "The original list is : [1, 2, 5, 8, 6, 2, 3, 6, 4, 1, 2, 5, 8, 9, 1, 3, 5, 5, 4, 7]\n",
      "Odd digit sum : 45\n",
      "Even digit sum : 42\n"
     ]
    }
   ],
   "source": [
    "list = [1,2,5,8,6,2,3,6,4,1,2,5,8,9,1,3,5,5,4,7]\n",
    " \n",
    "print(\"The original list is : \" + str(list))\n",
    " \n",
    "odd_sum = 0\n",
    "even_sum = 0\n",
    " \n",
    "for sub in list:\n",
    "    for ele in str(sub):\n",
    "         \n",
    " \n",
    "        if int(ele) % 2 == 0:\n",
    "            even_sum += int(ele)\n",
    "        else:\n",
    "            odd_sum += int(ele)\n",
    " \n",
    "\n",
    "print(\"Odd digit sum : \" + str(odd_sum))\n",
    "print(\"Even digit sum : \" + str(even_sum))"
   ]
  },
  {
   "cell_type": "code",
   "execution_count": 5,
   "id": "3faa29c1",
   "metadata": {},
   "outputs": [],
   "source": [
    "## Question 18\n",
    "# Python Program to Find Factorial of Number Using Recursion"
   ]
  },
  {
   "cell_type": "code",
   "execution_count": 6,
   "id": "2ef47f79",
   "metadata": {},
   "outputs": [
    {
     "name": "stdout",
     "output_type": "stream",
     "text": [
      "number :  5\n",
      "Factorial :  120\n"
     ]
    }
   ],
   "source": [
    "def factorial(n):\n",
    "     \n",
    "    \n",
    "    if (n==1 or n==0):\n",
    "         \n",
    "        return 1\n",
    "     \n",
    "    else:\n",
    "         \n",
    "        return (n * factorial(n - 1))\n",
    " \n",
    "\n",
    "num = 5;\n",
    "print(\"number : \",num)\n",
    "print(\"Factorial : \",factorial(num))"
   ]
  },
  {
   "cell_type": "code",
   "execution_count": 7,
   "id": "07874d88",
   "metadata": {},
   "outputs": [],
   "source": [
    "## Qustion 19\n",
    "# Write a Python function that takes a list and returns a new list with unique elements of the first list.\n"
   ]
  },
  {
   "cell_type": "code",
   "execution_count": 8,
   "id": "71a95ab0",
   "metadata": {},
   "outputs": [
    {
     "name": "stdout",
     "output_type": "stream",
     "text": [
      "[1, 2, 3]\n"
     ]
    }
   ],
   "source": [
    "def unique_list(numbers):\n",
    "    unique = []\n",
    "    for item in numbers :\n",
    "        if item not in unique:\n",
    "            unique.append(item)\n",
    "    return unique\n",
    "\n",
    "print(unique_list([1, 2, 3, 1, 2]))"
   ]
  },
  {
   "cell_type": "code",
   "execution_count": 9,
   "id": "4e3cc640",
   "metadata": {},
   "outputs": [],
   "source": [
    "## Question 20\n",
    "#  Mini project :\n",
    "# Problem Statement : Password Generator\n",
    "\n",
    "# Make a program to generate a strong password using the input given by the user. To generate a password,randomly take some words from the user input and then include numbers, special characters and capitalletters to generate the password. Also, keep a check that password length is more than 8 characters.Note: Include Exception handling wherever required. Also, make a ‘User’ class and store the details like userid, name and password of each user as a tuple. "
   ]
  },
  {
   "cell_type": "code",
   "execution_count": 10,
   "id": "3c8f2b12",
   "metadata": {},
   "outputs": [
    {
     "name": "stdout",
     "output_type": "stream",
     "text": [
      "bi3|HJxchUVY\n"
     ]
    }
   ],
   "source": [
    "import random\n",
    "import array\n",
    " \n",
    "\n",
    "MAX_LEN = 12\n",
    " \n",
    "\n",
    "DIGITS = ['0', '1', '2', '3', '4', '5', '6', '7', '8', '9'] \n",
    "LOCASE_CHARACTERS = ['a', 'b', 'c', 'd', 'e', 'f', 'g', 'h',\n",
    "                     'i', 'j', 'k', 'm', 'n', 'o', 'p', 'q',\n",
    "                     'r', 's', 't', 'u', 'v', 'w', 'x', 'y',\n",
    "                     'z']\n",
    " \n",
    "UPCASE_CHARACTERS = ['A', 'B', 'C', 'D', 'E', 'F', 'G', 'H',\n",
    "                     'I', 'J', 'K', 'M', 'N', 'O', 'P', 'Q',\n",
    "                     'R', 'S', 'T', 'U', 'V', 'W', 'X', 'Y',\n",
    "                     'Z']\n",
    " \n",
    "SYMBOLS = ['@', '#', '$', '%', '=', ':', '?', '.', '/', '|', '~', '>',\n",
    "           '*', '(', ')', '<']\n",
    " \n",
    "\n",
    "COMBINED_LIST = DIGITS + UPCASE_CHARACTERS + LOCASE_CHARACTERS + SYMBOLS\n",
    " \n",
    "\n",
    "rand_digit = random.choice(DIGITS)\n",
    "rand_upper = random.choice(UPCASE_CHARACTERS)\n",
    "rand_lower = random.choice(LOCASE_CHARACTERS)\n",
    "rand_symbol = random.choice(SYMBOLS)\n",
    " \n",
    "\n",
    "temp_pass = rand_digit + rand_upper + rand_lower + rand_symbol\n",
    " \n",
    " \n",
    "\n",
    "for x in range(MAX_LEN - 4):\n",
    "    temp_pass = temp_pass + random.choice(COMBINED_LIST)\n",
    " \n",
    "   \n",
    "    temp_pass_list = array.array('u', temp_pass)\n",
    "    random.shuffle(temp_pass_list)\n",
    " \n",
    "\n",
    "password = \"\"\n",
    "for x in temp_pass_list:\n",
    "        password = password + x\n",
    "         \n",
    "\n",
    "print(password)"
   ]
  },
  {
   "cell_type": "code",
   "execution_count": null,
   "id": "adb9e554",
   "metadata": {},
   "outputs": [],
   "source": []
  }
 ],
 "metadata": {
  "kernelspec": {
   "display_name": "Python 3 (ipykernel)",
   "language": "python",
   "name": "python3"
  },
  "language_info": {
   "codemirror_mode": {
    "name": "ipython",
    "version": 3
   },
   "file_extension": ".py",
   "mimetype": "text/x-python",
   "name": "python",
   "nbconvert_exporter": "python",
   "pygments_lexer": "ipython3",
   "version": "3.9.13"
  }
 },
 "nbformat": 4,
 "nbformat_minor": 5
}
